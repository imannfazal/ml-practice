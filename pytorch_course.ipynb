{
  "nbformat": 4,
  "nbformat_minor": 0,
  "metadata": {
    "colab": {
      "provenance": [],
      "authorship_tag": "ABX9TyNy4I35ZNxifTQi/EyRgYc4",
      "include_colab_link": true
    },
    "kernelspec": {
      "name": "python3",
      "display_name": "Python 3"
    },
    "language_info": {
      "name": "python"
    }
  },
  "cells": [
    {
      "cell_type": "markdown",
      "metadata": {
        "id": "view-in-github",
        "colab_type": "text"
      },
      "source": [
        "<a href=\"https://colab.research.google.com/github/imannfazal/ml-practice/blob/main/pytorch_course.ipynb\" target=\"_parent\"><img src=\"https://colab.research.google.com/assets/colab-badge.svg\" alt=\"Open In Colab\"/></a>"
      ]
    },
    {
      "cell_type": "code",
      "execution_count": 1,
      "metadata": {
        "colab": {
          "base_uri": "https://localhost:8080/"
        },
        "id": "xaoOWw1RY5f1",
        "outputId": "1aa2f329-41f4-4b01-fd95-0d02e48fd80d"
      },
      "outputs": [
        {
          "output_type": "stream",
          "name": "stdout",
          "text": [
            "/bin/bash: line 1: nvidia-smi: command not found\n"
          ]
        }
      ],
      "source": [
        "!nvidia-smi"
      ]
    },
    {
      "cell_type": "code",
      "source": [
        "import torch\n",
        "import pandas\n",
        "import numpy\n",
        "import matplotlib.pyplot as plt\n",
        "print(torch.__version__)"
      ],
      "metadata": {
        "colab": {
          "base_uri": "https://localhost:8080/"
        },
        "id": "BJZfoKBoZXpY",
        "outputId": "b9c7bb2b-85eb-4cf2-e914-2d1c063fd8ee"
      },
      "execution_count": 2,
      "outputs": [
        {
          "output_type": "stream",
          "name": "stdout",
          "text": [
            "2.8.0+cu126\n"
          ]
        }
      ]
    },
    {
      "cell_type": "code",
      "source": [
        "#scaler\n",
        "scaler = torch.tensor(7)\n",
        "scaler"
      ],
      "metadata": {
        "colab": {
          "base_uri": "https://localhost:8080/"
        },
        "id": "YTDNx_tsZuB0",
        "outputId": "d0cbc479-51d9-4512-dd5d-32c015270fde"
      },
      "execution_count": 3,
      "outputs": [
        {
          "output_type": "execute_result",
          "data": {
            "text/plain": [
              "tensor(7)"
            ]
          },
          "metadata": {},
          "execution_count": 3
        }
      ]
    },
    {
      "cell_type": "code",
      "source": [
        "print(scaler.ndim)\n",
        "print(scaler.shape)"
      ],
      "metadata": {
        "colab": {
          "base_uri": "https://localhost:8080/"
        },
        "id": "iFmtv5ygamve",
        "outputId": "ff102bb4-ec85-488b-d932-2f128397ccca"
      },
      "execution_count": 4,
      "outputs": [
        {
          "output_type": "stream",
          "name": "stdout",
          "text": [
            "0\n",
            "torch.Size([])\n"
          ]
        }
      ]
    },
    {
      "cell_type": "code",
      "source": [
        "#vector\n",
        "vector = torch.tensor([7, 9])\n",
        "vector\n",
        "vector.ndim"
      ],
      "metadata": {
        "colab": {
          "base_uri": "https://localhost:8080/"
        },
        "id": "hi9bcO71a7eV",
        "outputId": "204c4c56-840a-4197-81e4-141154fe50eb"
      },
      "execution_count": 5,
      "outputs": [
        {
          "output_type": "execute_result",
          "data": {
            "text/plain": [
              "1"
            ]
          },
          "metadata": {},
          "execution_count": 5
        }
      ]
    },
    {
      "cell_type": "code",
      "source": [
        "tensor = torch.tensor([[1,-2,-3],[3,4,5],[3,9,7],[0,1,0],[7,8,9]], dtype=torch.float32)\n",
        "print(tensor)\n",
        "tensor.ndim"
      ],
      "metadata": {
        "colab": {
          "base_uri": "https://localhost:8080/"
        },
        "id": "V0DVsazGbDox",
        "outputId": "5d67b9d4-128a-4c0f-8318-4133b9b2aa21"
      },
      "execution_count": 19,
      "outputs": [
        {
          "output_type": "stream",
          "name": "stdout",
          "text": [
            "tensor([[ 1., -2., -3.],\n",
            "        [ 3.,  4.,  5.],\n",
            "        [ 3.,  9.,  7.],\n",
            "        [ 0.,  1.,  0.],\n",
            "        [ 7.,  8.,  9.]])\n"
          ]
        },
        {
          "output_type": "execute_result",
          "data": {
            "text/plain": [
              "2"
            ]
          },
          "metadata": {},
          "execution_count": 19
        }
      ]
    },
    {
      "cell_type": "code",
      "source": [
        "tensor.shape"
      ],
      "metadata": {
        "colab": {
          "base_uri": "https://localhost:8080/"
        },
        "id": "jHa8wIYqbclq",
        "outputId": "50a6856a-2500-44df-ac45-6efec36d596a"
      },
      "execution_count": 7,
      "outputs": [
        {
          "output_type": "execute_result",
          "data": {
            "text/plain": [
              "torch.Size([5, 3])"
            ]
          },
          "metadata": {},
          "execution_count": 7
        }
      ]
    },
    {
      "cell_type": "code",
      "source": [
        "tensor[1][1] =0\n",
        "print(tensor)\n"
      ],
      "metadata": {
        "colab": {
          "base_uri": "https://localhost:8080/"
        },
        "id": "JK9eDfBwcBDr",
        "outputId": "c22ffad6-3848-4d3f-8303-5558d53d9fc9"
      },
      "execution_count": 8,
      "outputs": [
        {
          "output_type": "stream",
          "name": "stdout",
          "text": [
            "tensor([[ 1., -2., -3.],\n",
            "        [ 3.,  0.,  5.],\n",
            "        [ 3.,  9.,  7.],\n",
            "        [ 0.,  1.,  0.],\n",
            "        [ 7.,  8.,  9.]])\n"
          ]
        }
      ]
    },
    {
      "cell_type": "code",
      "source": [
        "scaler.item()"
      ],
      "metadata": {
        "colab": {
          "base_uri": "https://localhost:8080/"
        },
        "id": "np6K2WhseRNS",
        "outputId": "e10aefe2-6608-4853-c1dd-23859d760e39"
      },
      "execution_count": 9,
      "outputs": [
        {
          "output_type": "execute_result",
          "data": {
            "text/plain": [
              "7"
            ]
          },
          "metadata": {},
          "execution_count": 9
        }
      ]
    },
    {
      "cell_type": "code",
      "source": [
        "torch.FloatTensor.abs_(tensor)"
      ],
      "metadata": {
        "colab": {
          "base_uri": "https://localhost:8080/"
        },
        "id": "bCZ1LM17fYR9",
        "outputId": "f09c92cb-0f14-4357-f533-8e1645ff685e"
      },
      "execution_count": 10,
      "outputs": [
        {
          "output_type": "execute_result",
          "data": {
            "text/plain": [
              "tensor([[1., 2., 3.],\n",
              "        [3., 0., 5.],\n",
              "        [3., 9., 7.],\n",
              "        [0., 1., 0.],\n",
              "        [7., 8., 9.]])"
            ]
          },
          "metadata": {},
          "execution_count": 10
        }
      ]
    },
    {
      "cell_type": "code",
      "source": [
        "z = torch.rand(size=(3,5))\n",
        "z= z+1\n"
      ],
      "metadata": {
        "id": "PQJo8qtTf0Os"
      },
      "execution_count": 20,
      "outputs": []
    },
    {
      "cell_type": "code",
      "source": [
        "z.type(torch.int32)"
      ],
      "metadata": {
        "colab": {
          "base_uri": "https://localhost:8080/"
        },
        "id": "0Wq1LgDUmyS2",
        "outputId": "d6bb13e7-2c17-41cb-cfb9-9cdccd255a72"
      },
      "execution_count": 12,
      "outputs": [
        {
          "output_type": "execute_result",
          "data": {
            "text/plain": [
              "tensor([[1, 1, 1, 1, 1],\n",
              "        [1, 1, 1, 1, 1],\n",
              "        [1, 1, 1, 1, 1]], dtype=torch.int32)"
            ]
          },
          "metadata": {},
          "execution_count": 12
        }
      ]
    },
    {
      "cell_type": "code",
      "source": [
        "zero = torch.ones(size=(2,3), dtype=torch.int16)\n",
        "zero"
      ],
      "metadata": {
        "id": "RGDIxPc7k3sG",
        "colab": {
          "base_uri": "https://localhost:8080/"
        },
        "outputId": "0cd79116-b7fb-48db-d7d9-3ea5bd3a8609"
      },
      "execution_count": 13,
      "outputs": [
        {
          "output_type": "execute_result",
          "data": {
            "text/plain": [
              "tensor([[1, 1, 1],\n",
              "        [1, 1, 1]], dtype=torch.int16)"
            ]
          },
          "metadata": {},
          "execution_count": 13
        }
      ]
    },
    {
      "cell_type": "markdown",
      "source": [
        "**Range of numbers:**"
      ],
      "metadata": {
        "id": "USD-je9PKeJh"
      }
    },
    {
      "cell_type": "code",
      "source": [
        "y = torch.arange(0,10)\n",
        "y"
      ],
      "metadata": {
        "colab": {
          "base_uri": "https://localhost:8080/"
        },
        "id": "siatgHuYi_Fx",
        "outputId": "9c610b6e-4d94-4d3d-d870-8322e9cad9ee"
      },
      "execution_count": 14,
      "outputs": [
        {
          "output_type": "execute_result",
          "data": {
            "text/plain": [
              "tensor([0, 1, 2, 3, 4, 5, 6, 7, 8, 9])"
            ]
          },
          "metadata": {},
          "execution_count": 14
        }
      ]
    },
    {
      "cell_type": "code",
      "source": [
        "z = torch.arange(start=11, end=133, step=11)\n",
        "z"
      ],
      "metadata": {
        "colab": {
          "base_uri": "https://localhost:8080/"
        },
        "id": "F5JwnkEMk_Bq",
        "outputId": "c3a0d1cc-1dd1-4915-d84a-b53337fd8ef7"
      },
      "execution_count": 15,
      "outputs": [
        {
          "output_type": "execute_result",
          "data": {
            "text/plain": [
              "tensor([ 11,  22,  33,  44,  55,  66,  77,  88,  99, 110, 121, 132])"
            ]
          },
          "metadata": {},
          "execution_count": 15
        }
      ]
    },
    {
      "cell_type": "code",
      "source": [
        "torch.zeros_like(input=z)"
      ],
      "metadata": {
        "colab": {
          "base_uri": "https://localhost:8080/"
        },
        "id": "nKZxlqlCla_C",
        "outputId": "d67d6ada-f590-42f2-e4e8-9f2703e20837"
      },
      "execution_count": 16,
      "outputs": [
        {
          "output_type": "execute_result",
          "data": {
            "text/plain": [
              "tensor([0, 0, 0, 0, 0, 0, 0, 0, 0, 0, 0, 0])"
            ]
          },
          "metadata": {},
          "execution_count": 16
        }
      ]
    },
    {
      "cell_type": "markdown",
      "source": [
        "**Matrix Multiplication:**"
      ],
      "metadata": {
        "id": "uweRb5L4KWEl"
      }
    },
    {
      "cell_type": "code",
      "source": [
        "c = torch.matmul(z, tensor)\n",
        "c"
      ],
      "metadata": {
        "colab": {
          "base_uri": "https://localhost:8080/"
        },
        "id": "z0IsONlcph_f",
        "outputId": "84cae75d-e1c1-4b7b-ed94-e85ad0a9934b"
      },
      "execution_count": 24,
      "outputs": [
        {
          "output_type": "execute_result",
          "data": {
            "text/plain": [
              "tensor([[19.5660, 27.1972, 25.0368],\n",
              "        [16.2094, 23.6790, 21.4507],\n",
              "        [17.8525, 26.9270, 21.9145]])"
            ]
          },
          "metadata": {},
          "execution_count": 24
        }
      ]
    },
    {
      "cell_type": "markdown",
      "source": [
        "**Transpose:**"
      ],
      "metadata": {
        "id": "o4KbNYcMJ4uI"
      }
    },
    {
      "cell_type": "code",
      "source": [
        "c.T"
      ],
      "metadata": {
        "id": "GVNxJ957pjas",
        "colab": {
          "base_uri": "https://localhost:8080/"
        },
        "outputId": "12d2c46e-a450-4b84-a261-54e3311faba5"
      },
      "execution_count": 23,
      "outputs": [
        {
          "output_type": "execute_result",
          "data": {
            "text/plain": [
              "tensor([[19.5660, 16.2094, 17.8525],\n",
              "        [27.1972, 23.6790, 26.9270],\n",
              "        [25.0368, 21.4507, 21.9145]])"
            ]
          },
          "metadata": {},
          "execution_count": 23
        }
      ]
    },
    {
      "cell_type": "markdown",
      "source": [
        "**Sum, Min, Max, Mean:**\n",
        "- c.sum()\n",
        "- c.min()\n",
        "- c.max()\n",
        "- c.mean()"
      ],
      "metadata": {
        "id": "SQB6bMjKJ-7J"
      }
    },
    {
      "cell_type": "code",
      "source": [
        "c.sum()"
      ],
      "metadata": {
        "colab": {
          "base_uri": "https://localhost:8080/"
        },
        "id": "StsO8L_BHBBn",
        "outputId": "00bc7c2c-b01e-41ee-9aa9-4976b6f500d3"
      },
      "execution_count": 29,
      "outputs": [
        {
          "output_type": "execute_result",
          "data": {
            "text/plain": [
              "tensor(199.8332)"
            ]
          },
          "metadata": {},
          "execution_count": 29
        }
      ]
    },
    {
      "cell_type": "markdown",
      "source": [
        "#### **Positional maximum = argmax, Positional minimum = argmin**\n",
        "Returns index of where the max or min is:"
      ],
      "metadata": {
        "id": "2Zsh0GG3JNiB"
      }
    },
    {
      "cell_type": "code",
      "source": [
        "print(\"Positional minimum: \", c.T.argmin())\n",
        "print(\"Positional maximum: \", c.T.argmax())"
      ],
      "metadata": {
        "colab": {
          "base_uri": "https://localhost:8080/"
        },
        "id": "wdC0Q1-gHK1O",
        "outputId": "42d4186f-0d9f-4281-8a09-874dcf6ac451"
      },
      "execution_count": 41,
      "outputs": [
        {
          "output_type": "stream",
          "name": "stdout",
          "text": [
            "Positional minimum:  tensor(1)\n",
            "Positional maximum:  tensor(3)\n"
          ]
        }
      ]
    }
  ]
}