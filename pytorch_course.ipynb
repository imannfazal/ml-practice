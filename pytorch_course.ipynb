{
  "nbformat": 4,
  "nbformat_minor": 0,
  "metadata": {
    "colab": {
      "provenance": [],
      "gpuType": "T4",
      "authorship_tag": "ABX9TyMbHvrgYUx0znXK4CwBpoNy",
      "include_colab_link": true
    },
    "kernelspec": {
      "name": "python3",
      "display_name": "Python 3"
    },
    "language_info": {
      "name": "python"
    },
    "accelerator": "GPU"
  },
  "cells": [
    {
      "cell_type": "markdown",
      "metadata": {
        "id": "view-in-github",
        "colab_type": "text"
      },
      "source": [
        "<a href=\"https://colab.research.google.com/github/imannfazal/ml-practice/blob/main/pytorch_course.ipynb\" target=\"_parent\"><img src=\"https://colab.research.google.com/assets/colab-badge.svg\" alt=\"Open In Colab\"/></a>"
      ]
    },
    {
      "cell_type": "code",
      "execution_count": 1,
      "metadata": {
        "colab": {
          "base_uri": "https://localhost:8080/"
        },
        "id": "xaoOWw1RY5f1",
        "outputId": "7a53d01f-27a2-49da-ca62-b9a76dbebae2"
      },
      "outputs": [
        {
          "output_type": "stream",
          "name": "stdout",
          "text": [
            "/bin/bash: line 1: nvidia-smi: command not found\n"
          ]
        }
      ],
      "source": [
        "!nvidia-smi"
      ]
    },
    {
      "cell_type": "code",
      "source": [
        "import torch\n",
        "import pandas\n",
        "import numpy\n",
        "import matplotlib.pyplot as plt\n",
        "print(torch.__version__)"
      ],
      "metadata": {
        "colab": {
          "base_uri": "https://localhost:8080/"
        },
        "id": "BJZfoKBoZXpY",
        "outputId": "a2a41afb-8aa7-4a23-ea3c-e5713205d0c1"
      },
      "execution_count": 2,
      "outputs": [
        {
          "output_type": "stream",
          "name": "stdout",
          "text": [
            "2.8.0+cu126\n"
          ]
        }
      ]
    },
    {
      "cell_type": "code",
      "source": [
        "#scaler\n",
        "scaler = torch.tensor(7)\n",
        "scaler"
      ],
      "metadata": {
        "colab": {
          "base_uri": "https://localhost:8080/"
        },
        "id": "YTDNx_tsZuB0",
        "outputId": "01840ebf-1502-4ad5-ecfb-ce3b9130a394"
      },
      "execution_count": 3,
      "outputs": [
        {
          "output_type": "execute_result",
          "data": {
            "text/plain": [
              "tensor(7)"
            ]
          },
          "metadata": {},
          "execution_count": 3
        }
      ]
    },
    {
      "cell_type": "code",
      "source": [
        "print(scaler.ndim)\n",
        "print(scaler.shape)"
      ],
      "metadata": {
        "colab": {
          "base_uri": "https://localhost:8080/"
        },
        "id": "iFmtv5ygamve",
        "outputId": "931a9a20-d237-46e5-c85f-35ed8b384a5f"
      },
      "execution_count": 4,
      "outputs": [
        {
          "output_type": "stream",
          "name": "stdout",
          "text": [
            "0\n",
            "torch.Size([])\n"
          ]
        }
      ]
    },
    {
      "cell_type": "code",
      "source": [
        "#vector\n",
        "vector = torch.tensor([7, 9])\n",
        "vector\n",
        "vector.ndim"
      ],
      "metadata": {
        "colab": {
          "base_uri": "https://localhost:8080/"
        },
        "id": "hi9bcO71a7eV",
        "outputId": "8c306dad-17c5-4896-ede1-dbb767c9a4c0"
      },
      "execution_count": 5,
      "outputs": [
        {
          "output_type": "execute_result",
          "data": {
            "text/plain": [
              "1"
            ]
          },
          "metadata": {},
          "execution_count": 5
        }
      ]
    },
    {
      "cell_type": "code",
      "source": [
        "tensor = torch.tensor([[1,-2,-3],[3,4,5],[3,9,7],[0,1,0],[7,8,9]], dtype=torch.float32)\n",
        "print(tensor)\n",
        "tensor.ndim"
      ],
      "metadata": {
        "colab": {
          "base_uri": "https://localhost:8080/"
        },
        "id": "V0DVsazGbDox",
        "outputId": "ee03e64e-e2a6-4e06-a289-11e2eac3050e"
      },
      "execution_count": 6,
      "outputs": [
        {
          "output_type": "stream",
          "name": "stdout",
          "text": [
            "tensor([[ 1., -2., -3.],\n",
            "        [ 3.,  4.,  5.],\n",
            "        [ 3.,  9.,  7.],\n",
            "        [ 0.,  1.,  0.],\n",
            "        [ 7.,  8.,  9.]])\n"
          ]
        },
        {
          "output_type": "execute_result",
          "data": {
            "text/plain": [
              "2"
            ]
          },
          "metadata": {},
          "execution_count": 6
        }
      ]
    },
    {
      "cell_type": "code",
      "source": [
        "tensor.shape"
      ],
      "metadata": {
        "colab": {
          "base_uri": "https://localhost:8080/"
        },
        "id": "jHa8wIYqbclq",
        "outputId": "dcb89bf1-2c79-489c-a6ab-7939751a4d8a"
      },
      "execution_count": 7,
      "outputs": [
        {
          "output_type": "execute_result",
          "data": {
            "text/plain": [
              "torch.Size([5, 3])"
            ]
          },
          "metadata": {},
          "execution_count": 7
        }
      ]
    },
    {
      "cell_type": "code",
      "source": [
        "tensor[1][1] =0\n",
        "print(tensor)\n"
      ],
      "metadata": {
        "colab": {
          "base_uri": "https://localhost:8080/"
        },
        "id": "JK9eDfBwcBDr",
        "outputId": "acf87dae-a99a-4f91-ea30-b2ef17d6f7c5"
      },
      "execution_count": 8,
      "outputs": [
        {
          "output_type": "stream",
          "name": "stdout",
          "text": [
            "tensor([[ 1., -2., -3.],\n",
            "        [ 3.,  0.,  5.],\n",
            "        [ 3.,  9.,  7.],\n",
            "        [ 0.,  1.,  0.],\n",
            "        [ 7.,  8.,  9.]])\n"
          ]
        }
      ]
    },
    {
      "cell_type": "code",
      "source": [
        "scaler.item()"
      ],
      "metadata": {
        "colab": {
          "base_uri": "https://localhost:8080/"
        },
        "id": "np6K2WhseRNS",
        "outputId": "25b0cd1f-bfa3-4477-ac58-1902a452c9f2"
      },
      "execution_count": 9,
      "outputs": [
        {
          "output_type": "execute_result",
          "data": {
            "text/plain": [
              "7"
            ]
          },
          "metadata": {},
          "execution_count": 9
        }
      ]
    },
    {
      "cell_type": "code",
      "source": [
        "torch.FloatTensor.abs_(tensor)"
      ],
      "metadata": {
        "colab": {
          "base_uri": "https://localhost:8080/"
        },
        "id": "bCZ1LM17fYR9",
        "outputId": "ff4dca22-32c5-4c55-a9ae-baffa0b7c821"
      },
      "execution_count": 10,
      "outputs": [
        {
          "output_type": "execute_result",
          "data": {
            "text/plain": [
              "tensor([[1., 2., 3.],\n",
              "        [3., 0., 5.],\n",
              "        [3., 9., 7.],\n",
              "        [0., 1., 0.],\n",
              "        [7., 8., 9.]])"
            ]
          },
          "metadata": {},
          "execution_count": 10
        }
      ]
    },
    {
      "cell_type": "code",
      "source": [
        "z = torch.rand(size=(3,5))\n",
        "z= z+1\n"
      ],
      "metadata": {
        "id": "PQJo8qtTf0Os"
      },
      "execution_count": 21,
      "outputs": []
    },
    {
      "cell_type": "code",
      "source": [
        "z.type(torch.int32)"
      ],
      "metadata": {
        "colab": {
          "base_uri": "https://localhost:8080/"
        },
        "id": "0Wq1LgDUmyS2",
        "outputId": "9115169b-5628-491b-ea5a-2055cacb3986"
      },
      "execution_count": 12,
      "outputs": [
        {
          "output_type": "execute_result",
          "data": {
            "text/plain": [
              "tensor([[1, 1, 1, 1, 1],\n",
              "        [1, 1, 1, 1, 1],\n",
              "        [1, 1, 1, 1, 1]], dtype=torch.int32)"
            ]
          },
          "metadata": {},
          "execution_count": 12
        }
      ]
    },
    {
      "cell_type": "code",
      "source": [
        "zero = torch.ones(size=(2,3), dtype=torch.int16)\n",
        "zero"
      ],
      "metadata": {
        "id": "RGDIxPc7k3sG",
        "colab": {
          "base_uri": "https://localhost:8080/"
        },
        "outputId": "ba6c1afb-53d7-41a5-f28f-1eb070ebf94a"
      },
      "execution_count": 18,
      "outputs": [
        {
          "output_type": "execute_result",
          "data": {
            "text/plain": [
              "tensor([[1, 1, 1],\n",
              "        [1, 1, 1]], dtype=torch.int16)"
            ]
          },
          "metadata": {},
          "execution_count": 18
        }
      ]
    },
    {
      "cell_type": "markdown",
      "source": [
        "**Range of numbers:**"
      ],
      "metadata": {
        "id": "USD-je9PKeJh"
      }
    },
    {
      "cell_type": "code",
      "source": [
        "y = torch.arange(0,10)\n",
        "y"
      ],
      "metadata": {
        "colab": {
          "base_uri": "https://localhost:8080/"
        },
        "id": "siatgHuYi_Fx",
        "outputId": "bd30e1e3-7c61-4387-e2fd-c9f55b1b598d"
      },
      "execution_count": 14,
      "outputs": [
        {
          "output_type": "execute_result",
          "data": {
            "text/plain": [
              "tensor([0, 1, 2, 3, 4, 5, 6, 7, 8, 9])"
            ]
          },
          "metadata": {},
          "execution_count": 14
        }
      ]
    },
    {
      "cell_type": "code",
      "source": [
        "z = torch.arange(start=11, end=133, step=11)\n",
        "z"
      ],
      "metadata": {
        "colab": {
          "base_uri": "https://localhost:8080/"
        },
        "id": "F5JwnkEMk_Bq",
        "outputId": "1f1fcb2d-fb17-4144-90f6-986ea99d2403"
      },
      "execution_count": 19,
      "outputs": [
        {
          "output_type": "execute_result",
          "data": {
            "text/plain": [
              "tensor([ 11,  22,  33,  44,  55,  66,  77,  88,  99, 110, 121, 132])"
            ]
          },
          "metadata": {},
          "execution_count": 19
        }
      ]
    },
    {
      "cell_type": "code",
      "source": [
        "torch.zeros_like(input=z)"
      ],
      "metadata": {
        "colab": {
          "base_uri": "https://localhost:8080/"
        },
        "id": "nKZxlqlCla_C",
        "outputId": "f1858cb2-e7c7-47ec-90c6-a9e0fd7e88b0"
      },
      "execution_count": 16,
      "outputs": [
        {
          "output_type": "execute_result",
          "data": {
            "text/plain": [
              "tensor([0, 0, 0, 0, 0, 0, 0, 0, 0, 0, 0, 0])"
            ]
          },
          "metadata": {},
          "execution_count": 16
        }
      ]
    },
    {
      "cell_type": "markdown",
      "source": [
        "**Matrix Multiplication:**"
      ],
      "metadata": {
        "id": "uweRb5L4KWEl"
      }
    },
    {
      "cell_type": "code",
      "source": [
        "c = torch.matmul(z, tensor)\n",
        "c"
      ],
      "metadata": {
        "colab": {
          "base_uri": "https://localhost:8080/"
        },
        "id": "z0IsONlcph_f",
        "outputId": "be30cd9a-5dc7-4410-ba83-1d43c52c0a28"
      },
      "execution_count": 22,
      "outputs": [
        {
          "output_type": "execute_result",
          "data": {
            "text/plain": [
              "tensor([[18.1715, 30.0819, 32.3891],\n",
              "        [17.6549, 25.0287, 31.1471],\n",
              "        [21.6682, 30.3059, 34.9535]])"
            ]
          },
          "metadata": {},
          "execution_count": 22
        }
      ]
    },
    {
      "cell_type": "markdown",
      "source": [
        "**Transpose:**"
      ],
      "metadata": {
        "id": "o4KbNYcMJ4uI"
      }
    },
    {
      "cell_type": "code",
      "source": [
        "c.T"
      ],
      "metadata": {
        "id": "GVNxJ957pjas",
        "colab": {
          "base_uri": "https://localhost:8080/"
        },
        "outputId": "bd10277f-0a22-4d4d-aa70-17765c34fd01"
      },
      "execution_count": 24,
      "outputs": [
        {
          "output_type": "execute_result",
          "data": {
            "text/plain": [
              "tensor([[18.1715, 17.6549, 21.6682],\n",
              "        [30.0819, 25.0287, 30.3059],\n",
              "        [32.3891, 31.1471, 34.9535]])"
            ]
          },
          "metadata": {},
          "execution_count": 24
        }
      ]
    },
    {
      "cell_type": "markdown",
      "source": [
        "**Sum, Min, Max, Mean:**\n",
        "- c.sum()\n",
        "- c.min()\n",
        "- c.max()\n",
        "- c.mean()"
      ],
      "metadata": {
        "id": "SQB6bMjKJ-7J"
      }
    },
    {
      "cell_type": "code",
      "source": [
        "c.sum()"
      ],
      "metadata": {
        "colab": {
          "base_uri": "https://localhost:8080/"
        },
        "id": "StsO8L_BHBBn",
        "outputId": "c25d7b94-a8f2-41a2-d63e-0755eb2e9cd7"
      },
      "execution_count": 25,
      "outputs": [
        {
          "output_type": "execute_result",
          "data": {
            "text/plain": [
              "tensor(241.4009)"
            ]
          },
          "metadata": {},
          "execution_count": 25
        }
      ]
    },
    {
      "cell_type": "markdown",
      "source": [
        "#### **Positional maximum = argmax, Positional minimum = argmin**\n",
        "Returns index of where the max or min is:"
      ],
      "metadata": {
        "id": "2Zsh0GG3JNiB"
      }
    },
    {
      "cell_type": "code",
      "source": [
        "print(\"Positional minimum: \", c.T.argmin())\n",
        "print(\"Positional maximum: \", c.T.argmax())"
      ],
      "metadata": {
        "colab": {
          "base_uri": "https://localhost:8080/"
        },
        "id": "wdC0Q1-gHK1O",
        "outputId": "6d3ec3e3-73e2-49ce-bd9e-fce2a08947ba"
      },
      "execution_count": 26,
      "outputs": [
        {
          "output_type": "stream",
          "name": "stdout",
          "text": [
            "Positional minimum:  tensor(1)\n",
            "Positional maximum:  tensor(8)\n"
          ]
        }
      ]
    },
    {
      "cell_type": "markdown",
      "source": [
        "#### Reshaping, Stacking, Squeezing, Unsqueezing, Permute\n"
      ],
      "metadata": {
        "id": "HZOsjTybM2NJ"
      }
    },
    {
      "cell_type": "code",
      "source": [
        "x = torch.arange(0,10, dtype=torch.float32)\n",
        "x"
      ],
      "metadata": {
        "colab": {
          "base_uri": "https://localhost:8080/"
        },
        "id": "LtwhLfPJNDiY",
        "outputId": "ff025c18-f8ff-4b21-9fa0-b83fc39439c9"
      },
      "execution_count": 27,
      "outputs": [
        {
          "output_type": "execute_result",
          "data": {
            "text/plain": [
              "tensor([0., 1., 2., 3., 4., 5., 6., 7., 8., 9.])"
            ]
          },
          "metadata": {},
          "execution_count": 27
        }
      ]
    },
    {
      "cell_type": "code",
      "source": [
        "x.reshape(10,1)  #2*5=10"
      ],
      "metadata": {
        "colab": {
          "base_uri": "https://localhost:8080/"
        },
        "id": "xIxjKuq0RiBw",
        "outputId": "7223cf50-f971-4159-c7a1-3a64baf12175"
      },
      "execution_count": 28,
      "outputs": [
        {
          "output_type": "execute_result",
          "data": {
            "text/plain": [
              "tensor([[0.],\n",
              "        [1.],\n",
              "        [2.],\n",
              "        [3.],\n",
              "        [4.],\n",
              "        [5.],\n",
              "        [6.],\n",
              "        [7.],\n",
              "        [8.],\n",
              "        [9.]])"
            ]
          },
          "metadata": {},
          "execution_count": 28
        }
      ]
    },
    {
      "cell_type": "code",
      "source": [
        "z = x.view(5,2)\n",
        "z"
      ],
      "metadata": {
        "colab": {
          "base_uri": "https://localhost:8080/"
        },
        "id": "LPlwUj6wR5gL",
        "outputId": "68661b6c-3516-4f2c-b2be-482d32ab7ed0"
      },
      "execution_count": 29,
      "outputs": [
        {
          "output_type": "execute_result",
          "data": {
            "text/plain": [
              "tensor([[0., 1.],\n",
              "        [2., 3.],\n",
              "        [4., 5.],\n",
              "        [6., 7.],\n",
              "        [8., 9.]])"
            ]
          },
          "metadata": {},
          "execution_count": 29
        }
      ]
    },
    {
      "cell_type": "code",
      "source": [
        "#changing z will also change x\n",
        "z[:,0]=5"
      ],
      "metadata": {
        "id": "da0-6_n2SjT1"
      },
      "execution_count": 31,
      "outputs": []
    },
    {
      "cell_type": "code",
      "source": [
        "z,x"
      ],
      "metadata": {
        "colab": {
          "base_uri": "https://localhost:8080/"
        },
        "id": "XfXnQN4nSlHA",
        "outputId": "b1c6055b-a671-494b-8e8a-2a400a117118"
      },
      "execution_count": 32,
      "outputs": [
        {
          "output_type": "execute_result",
          "data": {
            "text/plain": [
              "(tensor([[5., 1.],\n",
              "         [5., 3.],\n",
              "         [5., 5.],\n",
              "         [5., 7.],\n",
              "         [5., 9.]]),\n",
              " tensor([5., 1., 5., 3., 5., 5., 5., 7., 5., 9.]))"
            ]
          },
          "metadata": {},
          "execution_count": 32
        }
      ]
    },
    {
      "cell_type": "code",
      "source": [
        "torch.hstack([x,x,x,x]) #side by side"
      ],
      "metadata": {
        "colab": {
          "base_uri": "https://localhost:8080/"
        },
        "id": "p8KuT87BSsq7",
        "outputId": "e810392e-a51b-49f2-c4ff-1830451760c8"
      },
      "execution_count": 33,
      "outputs": [
        {
          "output_type": "execute_result",
          "data": {
            "text/plain": [
              "tensor([5., 1., 5., 3., 5., 5., 5., 7., 5., 9., 5., 1., 5., 3., 5., 5., 5., 7.,\n",
              "        5., 9., 5., 1., 5., 3., 5., 5., 5., 7., 5., 9., 5., 1., 5., 3., 5., 5.,\n",
              "        5., 7., 5., 9.])"
            ]
          },
          "metadata": {},
          "execution_count": 33
        }
      ]
    },
    {
      "cell_type": "code",
      "source": [
        "torch.vstack([x,x,x,x]) #on top of each other"
      ],
      "metadata": {
        "colab": {
          "base_uri": "https://localhost:8080/"
        },
        "id": "3jyUbXy5TLWC",
        "outputId": "42fd4787-82c7-417c-f21d-2e63b055b6b5"
      },
      "execution_count": 34,
      "outputs": [
        {
          "output_type": "execute_result",
          "data": {
            "text/plain": [
              "tensor([[5., 1., 5., 3., 5., 5., 5., 7., 5., 9.],\n",
              "        [5., 1., 5., 3., 5., 5., 5., 7., 5., 9.],\n",
              "        [5., 1., 5., 3., 5., 5., 5., 7., 5., 9.],\n",
              "        [5., 1., 5., 3., 5., 5., 5., 7., 5., 9.]])"
            ]
          },
          "metadata": {},
          "execution_count": 34
        }
      ]
    },
    {
      "cell_type": "code",
      "source": [
        "torch.stack([x,x,x,x], dim=0)"
      ],
      "metadata": {
        "colab": {
          "base_uri": "https://localhost:8080/"
        },
        "id": "fIxQ4wxATbLT",
        "outputId": "baa7c6f1-4e12-4d15-dbc8-727613dcaae7"
      },
      "execution_count": 35,
      "outputs": [
        {
          "output_type": "execute_result",
          "data": {
            "text/plain": [
              "tensor([[5., 1., 5., 3., 5., 5., 5., 7., 5., 9.],\n",
              "        [5., 1., 5., 3., 5., 5., 5., 7., 5., 9.],\n",
              "        [5., 1., 5., 3., 5., 5., 5., 7., 5., 9.],\n",
              "        [5., 1., 5., 3., 5., 5., 5., 7., 5., 9.]])"
            ]
          },
          "metadata": {},
          "execution_count": 35
        }
      ]
    },
    {
      "cell_type": "code",
      "source": [
        "torch.squeeze(x)"
      ],
      "metadata": {
        "colab": {
          "base_uri": "https://localhost:8080/"
        },
        "id": "TwTqmPmnTtPE",
        "outputId": "c6e294f5-c756-4c05-d90b-b9c097eb5c59"
      },
      "execution_count": 36,
      "outputs": [
        {
          "output_type": "execute_result",
          "data": {
            "text/plain": [
              "tensor([5., 1., 5., 3., 5., 5., 5., 7., 5., 9.])"
            ]
          },
          "metadata": {},
          "execution_count": 36
        }
      ]
    },
    {
      "cell_type": "code",
      "source": [
        "f = torch.zeros(2, 1, 2, 1, 2)\n",
        "f.size(), f"
      ],
      "metadata": {
        "colab": {
          "base_uri": "https://localhost:8080/"
        },
        "id": "T76Ri5TyT_DR",
        "outputId": "6db03834-49a7-49cb-ea56-008393e70e95"
      },
      "execution_count": 38,
      "outputs": [
        {
          "output_type": "execute_result",
          "data": {
            "text/plain": [
              "(torch.Size([2, 1, 2, 1, 2]),\n",
              " tensor([[[[[0., 0.]],\n",
              " \n",
              "           [[0., 0.]]]],\n",
              " \n",
              " \n",
              " \n",
              "         [[[[0., 0.]],\n",
              " \n",
              "           [[0., 0.]]]]]))"
            ]
          },
          "metadata": {},
          "execution_count": 38
        }
      ]
    },
    {
      "cell_type": "code",
      "source": [
        "v = torch.squeeze(f,1) #only squeezes 1 of 1-D"
      ],
      "metadata": {
        "id": "SeckpROpUOQp"
      },
      "execution_count": 39,
      "outputs": []
    },
    {
      "cell_type": "code",
      "source": [
        "v.size()"
      ],
      "metadata": {
        "colab": {
          "base_uri": "https://localhost:8080/"
        },
        "id": "Ei8XgzlPUkx1",
        "outputId": "b940f25a-f67c-4a19-98be-53f8e60a399c"
      },
      "execution_count": 40,
      "outputs": [
        {
          "output_type": "execute_result",
          "data": {
            "text/plain": [
              "torch.Size([2, 2, 1, 2])"
            ]
          },
          "metadata": {},
          "execution_count": 40
        }
      ]
    },
    {
      "cell_type": "code",
      "source": [
        "l = v.unsqueeze(dim=2)\n",
        "l"
      ],
      "metadata": {
        "colab": {
          "base_uri": "https://localhost:8080/"
        },
        "id": "VsILMMBpUmge",
        "outputId": "80294a61-4781-4b1c-bfad-1848aa002ebb"
      },
      "execution_count": 41,
      "outputs": [
        {
          "output_type": "execute_result",
          "data": {
            "text/plain": [
              "tensor([[[[[0., 0.]]],\n",
              "\n",
              "\n",
              "         [[[0., 0.]]]],\n",
              "\n",
              "\n",
              "\n",
              "        [[[[0., 0.]]],\n",
              "\n",
              "\n",
              "         [[[0., 0.]]]]])"
            ]
          },
          "metadata": {},
          "execution_count": 41
        }
      ]
    },
    {
      "cell_type": "code",
      "source": [
        "l.size()"
      ],
      "metadata": {
        "colab": {
          "base_uri": "https://localhost:8080/"
        },
        "id": "-h68v0A7Unz1",
        "outputId": "df55719f-4370-42a1-98c1-de4fc41e4aea"
      },
      "execution_count": 42,
      "outputs": [
        {
          "output_type": "execute_result",
          "data": {
            "text/plain": [
              "torch.Size([2, 2, 1, 1, 2])"
            ]
          },
          "metadata": {},
          "execution_count": 42
        }
      ]
    },
    {
      "cell_type": "code",
      "source": [
        "p= l.permute(4,2,1,0,3)\n",
        "p"
      ],
      "metadata": {
        "colab": {
          "base_uri": "https://localhost:8080/"
        },
        "id": "D0VOutzRX0_h",
        "outputId": "4505565e-a233-4d03-9761-ae9bafd814b5"
      },
      "execution_count": 43,
      "outputs": [
        {
          "output_type": "execute_result",
          "data": {
            "text/plain": [
              "tensor([[[[[0.],\n",
              "           [0.]],\n",
              "\n",
              "          [[0.],\n",
              "           [0.]]]],\n",
              "\n",
              "\n",
              "\n",
              "        [[[[0.],\n",
              "           [0.]],\n",
              "\n",
              "          [[0.],\n",
              "           [0.]]]]])"
            ]
          },
          "metadata": {},
          "execution_count": 43
        }
      ]
    },
    {
      "cell_type": "code",
      "source": [
        "p.size()"
      ],
      "metadata": {
        "colab": {
          "base_uri": "https://localhost:8080/"
        },
        "id": "eH4sCvA6YXrb",
        "outputId": "8fc5d42b-a668-4668-8dae-660dd0210af6"
      },
      "execution_count": 44,
      "outputs": [
        {
          "output_type": "execute_result",
          "data": {
            "text/plain": [
              "torch.Size([2, 1, 2, 2, 1])"
            ]
          },
          "metadata": {},
          "execution_count": 44
        }
      ]
    },
    {
      "cell_type": "code",
      "source": [
        "x = torch.arange(1,10).reshape(1,3,3)\n",
        "x"
      ],
      "metadata": {
        "id": "QQE_apAbYhW5",
        "colab": {
          "base_uri": "https://localhost:8080/"
        },
        "outputId": "e3a60559-5ce6-46a9-aa77-25fe41b43b56"
      },
      "execution_count": 45,
      "outputs": [
        {
          "output_type": "execute_result",
          "data": {
            "text/plain": [
              "tensor([[[1, 2, 3],\n",
              "         [4, 5, 6],\n",
              "         [7, 8, 9]]])"
            ]
          },
          "metadata": {},
          "execution_count": 45
        }
      ]
    },
    {
      "cell_type": "code",
      "source": [
        "x[0][2][0]=8"
      ],
      "metadata": {
        "id": "uzcyakOo6Gww"
      },
      "execution_count": 54,
      "outputs": []
    },
    {
      "cell_type": "code",
      "source": [
        "x"
      ],
      "metadata": {
        "colab": {
          "base_uri": "https://localhost:8080/"
        },
        "id": "AoqEt1Jm6LuU",
        "outputId": "9b405ce2-e56c-4372-a3f5-836a5e02ac09"
      },
      "execution_count": 55,
      "outputs": [
        {
          "output_type": "execute_result",
          "data": {
            "text/plain": [
              "tensor([[[1, 2, 3],\n",
              "         [4, 5, 6],\n",
              "         [8, 8, 9]]])"
            ]
          },
          "metadata": {},
          "execution_count": 55
        }
      ]
    },
    {
      "cell_type": "code",
      "source": [
        "x[0][2][2]"
      ],
      "metadata": {
        "colab": {
          "base_uri": "https://localhost:8080/"
        },
        "id": "TiiOq1JB6dR9",
        "outputId": "6c7ad5b2-25fb-4bd4-81d8-34085b0c54dd"
      },
      "execution_count": 56,
      "outputs": [
        {
          "output_type": "execute_result",
          "data": {
            "text/plain": [
              "tensor(9)"
            ]
          },
          "metadata": {},
          "execution_count": 56
        }
      ]
    },
    {
      "cell_type": "code",
      "source": [
        "x[0,:,2]"
      ],
      "metadata": {
        "colab": {
          "base_uri": "https://localhost:8080/"
        },
        "id": "Zy6XACSpHDXL",
        "outputId": "6c513e04-f223-4bef-db0d-fe09c8f03c53"
      },
      "execution_count": 62,
      "outputs": [
        {
          "output_type": "execute_result",
          "data": {
            "text/plain": [
              "tensor([3, 6, 9])"
            ]
          },
          "metadata": {},
          "execution_count": 62
        }
      ]
    },
    {
      "cell_type": "markdown",
      "source": [
        "### **PyTorch & NumPy**\n",
        "* Data in numPy, want in torch tensor: torch.from_numpy(ndarray)\n",
        "* torch -> numpy: torch.Tensor.numpy()"
      ],
      "metadata": {
        "id": "5q_V7uH7IZZJ"
      }
    },
    {
      "cell_type": "code",
      "source": [
        "import torch\n",
        "import numpy as np\n",
        "\n",
        "array = np.arange(1.0, 8.0)\n",
        "tensor = torch.from_numpy(array)"
      ],
      "metadata": {
        "id": "6TMOyhC5HLmQ"
      },
      "execution_count": 75,
      "outputs": []
    },
    {
      "cell_type": "code",
      "source": [
        "tensor"
      ],
      "metadata": {
        "colab": {
          "base_uri": "https://localhost:8080/"
        },
        "id": "jf-gapF3JPHc",
        "outputId": "6efefc95-c246-4fec-8c55-78437d456d42"
      },
      "execution_count": 76,
      "outputs": [
        {
          "output_type": "execute_result",
          "data": {
            "text/plain": [
              "tensor([1., 2., 3., 4., 5., 6., 7.], dtype=torch.float64)"
            ]
          },
          "metadata": {},
          "execution_count": 76
        }
      ]
    },
    {
      "cell_type": "markdown",
      "source": [
        "**Default dtype:**\n",
        "* numPy: float64\n",
        "* pyTorch: float32\n",
        "pytorch reflects numpy dtype when converting from numpy to torch tensor."
      ],
      "metadata": {
        "id": "dNAq6FL2Jjyv"
      }
    },
    {
      "cell_type": "code",
      "source": [
        "tonumpy = tensor.numpy()"
      ],
      "metadata": {
        "id": "1pwoXB28JQVc"
      },
      "execution_count": 77,
      "outputs": []
    },
    {
      "cell_type": "code",
      "source": [
        "tonumpy"
      ],
      "metadata": {
        "colab": {
          "base_uri": "https://localhost:8080/"
        },
        "id": "JSaXrNoPnoYF",
        "outputId": "43e4f094-2fc7-42b0-c28c-bb0822ae897e"
      },
      "execution_count": 78,
      "outputs": [
        {
          "output_type": "execute_result",
          "data": {
            "text/plain": [
              "array([1., 2., 3., 4., 5., 6., 7.])"
            ]
          },
          "metadata": {},
          "execution_count": 78
        }
      ]
    },
    {
      "cell_type": "code",
      "source": [
        "tensor = tensor + 1\n",
        "tonumpy, tensor"
      ],
      "metadata": {
        "colab": {
          "base_uri": "https://localhost:8080/"
        },
        "id": "GRNdNLRwnqYR",
        "outputId": "8a68af00-b9ff-43b6-b2dc-a49e9c9807e2"
      },
      "execution_count": 79,
      "outputs": [
        {
          "output_type": "execute_result",
          "data": {
            "text/plain": [
              "(array([1., 2., 3., 4., 5., 6., 7.]),\n",
              " tensor([2., 3., 4., 5., 6., 7., 8.], dtype=torch.float64))"
            ]
          },
          "metadata": {},
          "execution_count": 79
        }
      ]
    },
    {
      "cell_type": "markdown",
      "source": [
        "## **Reproducibility** (trying to take random out of random)\n",
        "* Random seed"
      ],
      "metadata": {
        "id": "lKl6rAdFonj1"
      }
    },
    {
      "cell_type": "code",
      "source": [
        "import torch\n",
        "\n",
        "RANDOM_SEED = 42\n",
        "\n",
        "torch.manual_seed(RANDOM_SEED)\n",
        "ran1 = torch.rand(3,4)\n",
        "\n",
        "torch.manual_seed(RANDOM_SEED)\n",
        "ran2 = torch.rand(3,4)\n",
        "\n",
        "ran1==ran2"
      ],
      "metadata": {
        "colab": {
          "base_uri": "https://localhost:8080/"
        },
        "id": "NFCpwNzOn1KK",
        "outputId": "effc575b-8973-4922-d39a-d8715156a17f"
      },
      "execution_count": 88,
      "outputs": [
        {
          "output_type": "execute_result",
          "data": {
            "text/plain": [
              "tensor([[True, True, True, True],\n",
              "        [True, True, True, True],\n",
              "        [True, True, True, True]])"
            ]
          },
          "metadata": {},
          "execution_count": 88
        }
      ]
    },
    {
      "cell_type": "markdown",
      "source": [
        "### Putting tensors on GPU"
      ],
      "metadata": {
        "id": "YaQURiK95avB"
      }
    },
    {
      "cell_type": "code",
      "source": [
        "import torch\n",
        "\n",
        "tensor = torch.tensor([1,2,3,4,5], device='cuda')\n"
      ],
      "metadata": {
        "id": "_CEnnWohpN3d"
      },
      "execution_count": 2,
      "outputs": []
    },
    {
      "cell_type": "code",
      "source": [
        "tensor.device"
      ],
      "metadata": {
        "colab": {
          "base_uri": "https://localhost:8080/",
          "height": 36
        },
        "id": "QnJOfDVN5uw0",
        "outputId": "818079d5-a31a-4ec6-c5e0-1ddc02dcf3d6"
      },
      "execution_count": 8,
      "outputs": [
        {
          "output_type": "execute_result",
          "data": {
            "text/plain": [
              "'cpu'"
            ],
            "application/vnd.google.colaboratory.intrinsic+json": {
              "type": "string"
            }
          },
          "metadata": {},
          "execution_count": 8
        }
      ]
    },
    {
      "cell_type": "code",
      "source": [
        "tensor = tensor.cpu().numpy()"
      ],
      "metadata": {
        "id": "55imQcoY5zIl"
      },
      "execution_count": 7,
      "outputs": []
    },
    {
      "cell_type": "code",
      "source": [],
      "metadata": {
        "id": "79nI5IwB6NN0"
      },
      "execution_count": null,
      "outputs": []
    }
  ]
}