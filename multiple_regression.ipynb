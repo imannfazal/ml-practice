{
 "cells": [
  {
   "cell_type": "markdown",
   "id": "8996f723",
   "metadata": {},
   "source": [
    "## Multiple Features Linear Regression"
   ]
  },
  {
   "cell_type": "markdown",
   "id": "372a0ce7",
   "metadata": {},
   "source": [
    "#### Previously:\n",
    "        f(x) = wx + b\n",
    "#### Now:\n",
    "        f(x) = x1w1 + x2w2 + .... + xnwn"
   ]
  },
  {
   "cell_type": "code",
   "execution_count": null,
   "id": "38e20063",
   "metadata": {
    "vscode": {
     "languageId": "plaintext"
    }
   },
   "outputs": [],
   "source": []
  }
 ],
 "metadata": {
  "language_info": {
   "name": "python"
  }
 },
 "nbformat": 4,
 "nbformat_minor": 5
}
