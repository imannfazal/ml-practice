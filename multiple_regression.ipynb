{
 "cells": [
  {
   "cell_type": "markdown",
   "id": "8996f723",
   "metadata": {},
   "source": [
    "## Multiple Features Linear Regression"
   ]
  },
  {
   "cell_type": "markdown",
   "id": "372a0ce7",
   "metadata": {},
   "source": [
    "#### Previously:\n",
    "        f(x) = wx + b\n",
    "#### Now:\n",
    "        f(X) = X1W1 + X2W2 + .... + XnWn"
   ]
  },
  {
   "cell_type": "markdown",
   "id": "2eafb1a5",
   "metadata": {},
   "source": [
    "## Model Implementation"
   ]
  },
  {
   "cell_type": "code",
   "execution_count": 2,
   "id": "89f52db9",
   "metadata": {},
   "outputs": [],
   "source": [
    "import numpy as np\n",
    "import matplotlib.pyplot as plt"
   ]
  },
  {
   "cell_type": "code",
   "execution_count": 3,
   "id": "be4db426",
   "metadata": {},
   "outputs": [
    {
     "name": "stdout",
     "output_type": "stream",
     "text": [
      "39.0\n"
     ]
    }
   ],
   "source": [
    "x_train = np.array([1.3, 2.6, 9.5])\n",
    "b = 4\n",
    "w = np.array([1.0, 2.0, 3.0])\n",
    "\n",
    "y = np.dot(w,x_train) + b\n",
    "\n",
    "print(y)"
   ]
  },
  {
   "cell_type": "code",
   "execution_count": null,
   "id": "06454fe7",
   "metadata": {},
   "outputs": [],
   "source": []
  }
 ],
 "metadata": {
  "kernelspec": {
   "display_name": "Python 3",
   "language": "python",
   "name": "python3"
  },
  "language_info": {
   "codemirror_mode": {
    "name": "ipython",
    "version": 3
   },
   "file_extension": ".py",
   "mimetype": "text/x-python",
   "name": "python",
   "nbconvert_exporter": "python",
   "pygments_lexer": "ipython3",
   "version": "3.13.3"
  }
 },
 "nbformat": 4,
 "nbformat_minor": 5
}
